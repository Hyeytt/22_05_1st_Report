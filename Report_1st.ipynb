{
  "nbformat": 4,
  "nbformat_minor": 0,
  "metadata": {
    "colab": {
      "provenance": [],
      "authorship_tag": "ABX9TyPCdwI8pE+MsJ+2EHkCsa1K",
      "include_colab_link": true
    },
    "kernelspec": {
      "name": "python3",
      "display_name": "Python 3"
    },
    "language_info": {
      "name": "python"
    }
  },
  "cells": [
    {
      "cell_type": "markdown",
      "metadata": {
        "id": "view-in-github",
        "colab_type": "text"
      },
      "source": [
        "<a href=\"https://colab.research.google.com/github/Hyeytt/22_05_1st_Report/blob/main/Report_1st.ipynb\" target=\"_parent\"><img src=\"https://colab.research.google.com/assets/colab-badge.svg\" alt=\"Open In Colab\"/></a>"
      ]
    },
    {
      "cell_type": "markdown",
      "source": [
        "# 1 . \"환영합니다.\" , \"파이썬의 세계에 오신 것을 환영합니다.\", \"파이썬은 강력합니다.\" 를 화면에 출력하는 프로그램을 작성하시오"
      ],
      "metadata": {
        "id": "2Uu5FaxWrACc"
      }
    },
    {
      "cell_type": "code",
      "source": [
        "print(\"환영합니다.\", \"파이썬의 세계에 오신 것을 환영합니다.\", \"파이썬은 강력합니다.\")       #print함수를 사용해서 출력\n",
        "print(\"파이썬의 세계에 오신 것을 환영합니다.\")\n",
        "print(\"파이썬은 강력합니다.\")"
      ],
      "metadata": {
        "colab": {
          "base_uri": "https://localhost:8080/"
        },
        "id": "tFJV2GF-rEJo",
        "outputId": "1dcdf9e0-d941-438e-b0f5-6233f11099c0"
      },
      "execution_count": null,
      "outputs": [
        {
          "output_type": "stream",
          "name": "stdout",
          "text": [
            "환영합니다. 파이썬의 세계에 오신 것을 환영합니다. 파이썬은 강력합니다.\n",
            "파이썬의 세계에 오신 것을 환영합니다.\n",
            "파이썬은 강력합니다.\n"
          ]
        }
      ]
    },
    {
      "cell_type": "markdown",
      "source": [
        "# 2 . 다음 프로그램의 실행 결과를 쓰시오"
      ],
      "metadata": {
        "id": "S9eTo2uMrbPG"
      }
    },
    {
      "cell_type": "code",
      "source": [
        "print(\"반갑습니다. 파이썬!\")\n",
        "print(2*3/10)                                                                   # *는 곱하기, /는 나누기\n",
        "print(\"hello\", \"world\", \"!!!\")"
      ],
      "metadata": {
        "colab": {
          "base_uri": "https://localhost:8080/"
        },
        "id": "v3M5QA6Yrf5v",
        "outputId": "56963124-0331-48be-90e9-7b8fc195ba31"
      },
      "execution_count": null,
      "outputs": [
        {
          "output_type": "stream",
          "name": "stdout",
          "text": [
            "반갑습니다. 파이썬!\n",
            "0.6\n",
            "hello world !!!\n"
          ]
        }
      ]
    },
    {
      "cell_type": "markdown",
      "source": [
        "# 3 . 파이썬 쉘을 사용하여 한 주가 몇시간에 해당하는지를 계산해보자"
      ],
      "metadata": {
        "id": "hsOvTT2Jrjde"
      }
    },
    {
      "cell_type": "code",
      "source": [
        "print(7*24)                                                                     # *는 곱하기"
      ],
      "metadata": {
        "colab": {
          "base_uri": "https://localhost:8080/"
        },
        "id": "fYMAiaSErkWc",
        "outputId": "a09c9ca3-4f39-4874-a78a-f4073f745ca6"
      },
      "execution_count": null,
      "outputs": [
        {
          "output_type": "stream",
          "name": "stdout",
          "text": [
            "168\n"
          ]
        }
      ]
    },
    {
      "cell_type": "markdown",
      "source": [
        "#    4 . # vscode 로 따로 커밋해서 올려두었습니다\n",
        "    import turtle \n",
        "    t = turtle .Turtle()\n",
        "    t.shape(\"turtle\")\n",
        "    t.forward(100)\n",
        "    t.left(90)\n",
        "    t.forward(100)\n",
        "    t.right(90)\n",
        "    t.forward(100)\n",
        "    t.right(90)\n",
        "    t.forward(100)\n",
        "    t.left(90)\n",
        "    t.forward(100)\n",
        "    t._screen.exitonclick()"
      ],
      "metadata": {
        "id": "T7zMjy_hrs3B"
      }
    }
  ]
}